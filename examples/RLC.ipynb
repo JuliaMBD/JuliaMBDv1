{
 "cells": [
  {
   "cell_type": "code",
   "execution_count": null,
   "metadata": {},
   "outputs": [],
   "source": [
    "include(\"src/Sim.jl\")"
   ]
  },
  {
   "cell_type": "code",
   "execution_count": null,
   "metadata": {},
   "outputs": [],
   "source": [
    "using DifferentialEquations\n",
    "using Plots\n",
    "using .Sim"
   ]
  },
  {
   "cell_type": "code",
   "execution_count": null,
   "metadata": {},
   "outputs": [],
   "source": [
    "@macroexpand @model RLC begin\n",
    "    @parameter R L C\n",
    "    @blk int1 = IntegratorBlock() inport[4]:x\n",
    "    @blk int2 = IntegratorBlock()\n",
    "    @blk in1 = InBlock()\n",
    "    @blk out1 = OutBlock()\n",
    "    @blk gain1 = GainBlock(R)\n",
    "    @blk gain2 = GainBlock(1/C)\n",
    "    @blk gain3 = GainBlock(1/L)\n",
    "    @connect gain3 <= exp(in1.outport - gain1 - int1)\n",
    "    @connect int2 <= gain3\n",
    "    @connect out1 <= int2\n",
    "    @connect gain1 <= int2\n",
    "    @connect gain2 <= int2\n",
    "    @connect int1 <= gain2\n",
    "end"
   ]
  },
  {
   "cell_type": "code",
   "execution_count": null,
   "metadata": {},
   "outputs": [],
   "source": [
    "@model RLC begin\n",
    "    @parameter R L C\n",
    "    @blk int1 = IntegratorBlock()\n",
    "    @blk int2 = IntegratorBlock()\n",
    "    @blk in1 = InBlock()\n",
    "    @blk out1 = OutBlock()\n",
    "    @blk gain1 = GainBlock(R)\n",
    "    @blk gain2 = GainBlock(1/C)\n",
    "    @blk gain3 = GainBlock(1/L)\n",
    "    @connect gain3 <= in1 - gain1 - int1\n",
    "    @connect int2 <= gain3\n",
    "    @connect out1 <= int2\n",
    "    @connect gain1 <= int2\n",
    "    @connect gain2 <= int2\n",
    "    @connect int1 <= gain2\n",
    "end"
   ]
  },
  {
   "cell_type": "code",
   "execution_count": null,
   "metadata": {},
   "outputs": [],
   "source": [
    "systemequation(RLC())"
   ]
  },
  {
   "cell_type": "code",
   "execution_count": null,
   "metadata": {},
   "outputs": [],
   "source": [
    "@model Test begin\n",
    "    @parameter R L C voltage\n",
    "    @blk system = RLC(R=R, L=L, C=C) outport:i\n",
    "    @blk source = StepBlock(steptime=0.1, finalvalue=voltage) outport:v\n",
    "    @connect source => system\n",
    "end"
   ]
  },
  {
   "cell_type": "code",
   "execution_count": null,
   "metadata": {},
   "outputs": [],
   "source": [
    "m = Test(R=10, L=100e-3, C=100e-6, voltage=5)\n",
    "sol = @simulate(m, tspan = (0.0, 1.0), scope=(i, v))\n",
    "sol.graph"
   ]
  },
  {
   "cell_type": "code",
   "execution_count": null,
   "metadata": {},
   "outputs": [],
   "source": []
  }
 ],
 "metadata": {
  "kernelspec": {
   "display_name": "Julia 1.2.0",
   "language": "julia",
   "name": "julia-1.2"
  },
  "language_info": {
   "file_extension": ".jl",
   "mimetype": "application/julia",
   "name": "julia",
   "version": "1.2.0"
  }
 },
 "nbformat": 4,
 "nbformat_minor": 4
}
