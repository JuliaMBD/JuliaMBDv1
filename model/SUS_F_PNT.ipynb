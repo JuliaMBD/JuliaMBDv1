{
 "cells": [
  {
   "cell_type": "code",
   "execution_count": null,
   "id": "e23751a7-5141-4bf2-840c-2224c2f860df",
   "metadata": {},
   "outputs": [],
   "source": [
    "using Pkg\n",
    "Pkg.add(url=\"https://github.com/JuliaMBD/JuliaMBDv1.git\")"
   ]
  },
  {
   "cell_type": "code",
   "execution_count": null,
   "id": "90f499a8-f039-48de-9cb7-d6fcba584199",
   "metadata": {},
   "outputs": [],
   "source": [
    "import Pkg\n",
    "Pkg.add(\"Plots\")\n",
    "Pkg.add(\"DifferentialEquations\")"
   ]
  },
  {
   "cell_type": "code",
   "execution_count": null,
   "id": "c7693ab9-75af-4785-8324-38bd459690ab",
   "metadata": {},
   "outputs": [],
   "source": [
    "using JuliaMBDv1\n",
    "using DifferentialEquations\n",
    "using Plots"
   ]
  },
  {
   "cell_type": "code",
   "execution_count": null,
   "id": "a41e5faf-1e79-4381-9951-bbaf7148c3fd",
   "metadata": {},
   "outputs": [],
   "source": []
  },
  {
   "cell_type": "code",
   "execution_count": null,
   "id": "12550b21-bb38-4cf3-90ad-6c5252b6562c",
   "metadata": {},
   "outputs": [],
   "source": []
  },
  {
   "cell_type": "code",
   "execution_count": null,
   "id": "ebdbf77e-c452-4665-a337-73d3a20c4608",
   "metadata": {},
   "outputs": [],
   "source": []
  },
  {
   "cell_type": "code",
   "execution_count": null,
   "id": "b3d17ea2-2b1d-40c5-89d4-42054193b93e",
   "metadata": {},
   "outputs": [],
   "source": [
    "#front_damper"
   ]
  },
  {
   "cell_type": "code",
   "execution_count": null,
   "id": "3e677120-a5f7-4fa1-a61a-840a218b4efb",
   "metadata": {},
   "outputs": [],
   "source": [
    "#n-D LookupTableブロック(インデックスの検索を含むn次元の内挿されたテーブルルックアップを実行する)\n",
    "#Saturation Dynamicブロック(1番目の入力(上限)と3番目の入力(下限)を使うことで、2番目の入力の範囲とする)\n",
    "#以上のブロックの不足"
   ]
  },
  {
   "cell_type": "code",
   "execution_count": null,
   "id": "baa53f32-131d-4286-994f-6ae91a5b3c51",
   "metadata": {},
   "outputs": [],
   "source": []
  },
  {
   "cell_type": "code",
   "execution_count": null,
   "id": "a928459b-e7bb-45c9-81af-e989d5234419",
   "metadata": {},
   "outputs": [],
   "source": [
    "#集合ブロックHM_F_PNTはfront_damperの作成困難のため出来ない"
   ]
  }
 ],
 "metadata": {
  "kernelspec": {
   "display_name": "Julia 1.8.5",
   "language": "julia",
   "name": "julia-1.8"
  },
  "language_info": {
   "file_extension": ".jl",
   "mimetype": "application/julia",
   "name": "julia",
   "version": "1.8.5"
  }
 },
 "nbformat": 4,
 "nbformat_minor": 5
}
