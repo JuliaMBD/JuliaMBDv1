{
 "cells": [
  {
   "cell_type": "code",
   "execution_count": null,
   "id": "63778548-057a-4ba7-a8da-a466595948ba",
   "metadata": {},
   "outputs": [],
   "source": [
    "#1-D LookupTableブロック(インデックスの検索を含むn次元の内挿されたテーブルルックアップを実行する)\n",
    "#Derivativeブロック(微分)\n",
    "#Distance_from_startブロック(入力値の表示)\n",
    "#Compare To Zerブロック(信号を0と比較する)\n",
    "#Stop Simulationブロック(入力が非ゼロの場合にシミュレーションを停止する)\n",
    "#以上のブロックの不足"
   ]
  },
  {
   "cell_type": "code",
   "execution_count": null,
   "id": "3e2f352f-a342-41ed-a9ed-554bb5883eb7",
   "metadata": {},
   "outputs": [],
   "source": [
    "using Pkg\n",
    "Pkg.add(url=\"https://github.com/JuliaMBD/JuliaMBDv1.git\")"
   ]
  },
  {
   "cell_type": "code",
   "execution_count": null,
   "id": "21e24db2-06dc-44f5-a01c-3625704756a8",
   "metadata": {},
   "outputs": [],
   "source": [
    "import Pkg\n",
    "Pkg.add(\"Plots\")\n",
    "Pkg.add(\"DifferentialEquations\")"
   ]
  },
  {
   "cell_type": "code",
   "execution_count": null,
   "id": "e0122e1b-fa4b-47b4-b5fe-73a05c3b18c5",
   "metadata": {},
   "outputs": [],
   "source": [
    "using JuliaMBDv1\n",
    "using DifferentialEquations\n",
    "using Plots"
   ]
  }
 ],
 "metadata": {
  "kernelspec": {
   "display_name": "Julia 1.8.5",
   "language": "julia",
   "name": "julia-1.8"
  },
  "language_info": {
   "file_extension": ".jl",
   "mimetype": "application/julia",
   "name": "julia",
   "version": "1.8.5"
  }
 },
 "nbformat": 4,
 "nbformat_minor": 5
}
