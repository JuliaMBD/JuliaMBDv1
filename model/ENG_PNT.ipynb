{
 "cells": [
  {
   "cell_type": "code",
   "execution_count": 1,
   "id": "04e12522-8c8f-4203-98aa-0505adf38162",
   "metadata": {},
   "outputs": [
    {
     "name": "stderr",
     "output_type": "stream",
     "text": [
      "\u001b[32m\u001b[1m    Updating\u001b[22m\u001b[39m registry at `/opt/julia/registries/General.toml`\n",
      "\u001b[32m\u001b[1m   Resolving\u001b[22m\u001b[39m package versions...\n",
      "\u001b[32m\u001b[1m  No Changes\u001b[22m\u001b[39m to `/opt/julia/environments/v1.8/Project.toml`\n",
      "\u001b[32m\u001b[1m  No Changes\u001b[22m\u001b[39m to `/opt/julia/environments/v1.8/Manifest.toml`\n"
     ]
    }
   ],
   "source": [
    "import Pkg\n",
    "Pkg.add(\"DifferentialEquations\")"
   ]
  },
  {
   "cell_type": "code",
   "execution_count": 2,
   "id": "b8650792-7cce-412b-8b28-67953cfa0953",
   "metadata": {},
   "outputs": [
    {
     "name": "stderr",
     "output_type": "stream",
     "text": [
      "\u001b[32m\u001b[1m   Resolving\u001b[22m\u001b[39m package versions...\n",
      "\u001b[32m\u001b[1m  No Changes\u001b[22m\u001b[39m to `/opt/julia/environments/v1.8/Project.toml`\n",
      "\u001b[32m\u001b[1m  No Changes\u001b[22m\u001b[39m to `/opt/julia/environments/v1.8/Manifest.toml`\n"
     ]
    }
   ],
   "source": [
    "Pkg.add(\"Plots\")"
   ]
  },
  {
   "cell_type": "code",
   "execution_count": 3,
   "id": "35cfbaba-6c7a-4803-905f-2f12263c9f26",
   "metadata": {},
   "outputs": [
    {
     "name": "stderr",
     "output_type": "stream",
     "text": [
      "WARNING: method definition for ModBlock at /home/jovyan/oldJulia/JSSimJulia-master/src/predefined_blocks/ModBlock.jl:11 declares type variable Tv but does not use it.\n"
     ]
    },
    {
     "data": {
      "text/plain": [
       "Main.Sim"
      ]
     },
     "execution_count": 3,
     "metadata": {},
     "output_type": "execute_result"
    }
   ],
   "source": [
    "include(\"src/Sim.jl\")"
   ]
  },
  {
   "cell_type": "code",
   "execution_count": null,
   "id": "cb8ee836-d42d-44b9-aff2-881601ab47ab",
   "metadata": {},
   "outputs": [],
   "source": []
  },
  {
   "cell_type": "code",
   "execution_count": null,
   "id": "30557561-daff-4ea8-8df2-c8e5af11833d",
   "metadata": {},
   "outputs": [],
   "source": []
  },
  {
   "cell_type": "code",
   "execution_count": null,
   "id": "7d743a4a-74bc-40e8-9841-1667acabd2ec",
   "metadata": {},
   "outputs": [],
   "source": [
    "using Pkg\n",
    "Pkg.add(url=\"https://github.com/JuliaMBD/JuliaMBDv1.git\")"
   ]
  },
  {
   "cell_type": "code",
   "execution_count": null,
   "id": "690a9f71-a8af-4573-bd44-0b6d4aa8f8bf",
   "metadata": {},
   "outputs": [],
   "source": [
    "import Pkg\n",
    "Pkg.add(\"Plots\")\n",
    "Pkg.add(\"DifferentialEquations\")"
   ]
  },
  {
   "cell_type": "code",
   "execution_count": null,
   "id": "345c8b22-28df-455d-ae4d-4efe0b1376eb",
   "metadata": {},
   "outputs": [],
   "source": [
    "using JuliaMBDv1\n",
    "using DifferentialEquations\n",
    "using Plots"
   ]
  },
  {
   "cell_type": "code",
   "execution_count": null,
   "id": "5d1f313e-98d2-46c0-8af8-83d8d5e6ee57",
   "metadata": {},
   "outputs": [],
   "source": []
  },
  {
   "cell_type": "code",
   "execution_count": null,
   "id": "66f8ef34-ed0c-4911-b8c6-5331e375802d",
   "metadata": {},
   "outputs": [],
   "source": []
  },
  {
   "cell_type": "code",
   "execution_count": null,
   "id": "dd945aaa-05d0-4234-893b-a0bf07c8a31e",
   "metadata": {},
   "outputs": [],
   "source": [
    "###ENG_PNTの大きいモデルを作成する"
   ]
  },
  {
   "cell_type": "code",
   "execution_count": null,
   "id": "3aa6d01c-961f-4fb3-a1ac-1a1abfb88519",
   "metadata": {},
   "outputs": [],
   "source": []
  },
  {
   "cell_type": "code",
   "execution_count": null,
   "id": "8dc54a5f-1126-4cd6-b764-ebe5076e3e62",
   "metadata": {},
   "outputs": [],
   "source": [
    "#ENG_MNT_F_PNTファイルではできているのにこちらではできない"
   ]
  },
  {
   "cell_type": "code",
   "execution_count": null,
   "id": "531d43e9-8b86-4a10-9b67-e3b5da7b8238",
   "metadata": {},
   "outputs": [],
   "source": [
    "#出来ている"
   ]
  },
  {
   "cell_type": "code",
   "execution_count": 5,
   "id": "9f08bbbe-e968-4b45-bb67-ecb8ae5f580e",
   "metadata": {
    "tags": []
   },
   "outputs": [
    {
     "ename": "LoadError",
     "evalue": "LoadError: UndefVarError: @model not defined\nin expression starting at In[5]:2",
     "output_type": "error",
     "traceback": [
      "LoadError: UndefVarError: @model not defined\nin expression starting at In[5]:2",
      ""
     ]
    }
   ],
   "source": [
    "#initialcondition = 6と勝手に指定,outのポートを増やした,掛け算割り算は直接演算\n",
    "@model pitch_rate begin\n",
    "    @parameter I_ENG2Fr_mount I_ENG2Rr_mount i_center_ENG\n",
    "    \n",
    "    @blk In1 = InBlock()\n",
    "    @blk In2 = InBlock()\n",
    "    @blk Constant4 = ConstantBlock(I_ENG2Fr_mount)\n",
    "    @blk Constant1 = ConstantBlock(I_ENG2Rr_mount)\n",
    "    @blk Add1 = AddBlock([:+, :+]) inport[1]:cons1 inport[2]:cons2\n",
    "    @blk Constant6 = ConstantBlock(i_center_ENG)\n",
    "    @blk Integrator = IntegratorBlock(initialcondition = 6)\n",
    "    #@blk Out = OutBlock()\n",
    "    @blk Out1 = OutBlock()\n",
    "    @blk Out2 = OutBlock()\n",
    "    \n",
    "    \n",
    "    \n",
    "    @connect In1*Constant4 => cons1\n",
    "    @connect In2*Constant1 => cons2\n",
    "    @connect Add1/Constant6=>Integrator\n",
    "    #@connect Integrator=>Out\n",
    "    @connect Integrator=>Out1\n",
    "    @connect Integrator=>Out2\n",
    "end"
   ]
  },
  {
   "cell_type": "code",
   "execution_count": null,
   "id": "983dbf9b-856f-48b6-988d-e89664b4d90c",
   "metadata": {},
   "outputs": [],
   "source": [
    "@model TestPitch_rate begin\n",
    "    \n",
    "    @parameter I_ENG2Fr_mount I_ENG2Rr_mount i_center_ENG\n",
    "    \n",
    "    @blk Ramp1 = RampBlock(starttime = 10, slope = 5) outport:inin1\n",
    "    @blk Ramp2 = RampBlock(starttime = 10, slope = 15) outport:inin2\n",
    "    #@blk pitch = pitch_rate(I_ENG2Fr_mount=I_ENG2Fr_mount, I_ENG2Rr_mount=I_ENG2Rr_mount, i_center_ENG=i_center_ENG) inport[1]:r inport[2]:y outport:omega\n",
    "    @blk pitch = pitch_rate(I_ENG2Fr_mount=I_ENG2Fr_mount, I_ENG2Rr_mount=I_ENG2Rr_mount, i_center_ENG=i_center_ENG) inport[1]:r inport[2]:y outport[1]:omega outport[2]:beta  \n",
    "    @connect inin1 => r\n",
    "    @connect inin2 => y\n",
    "\n",
    "end"
   ]
  },
  {
   "cell_type": "code",
   "execution_count": null,
   "id": "0bbf762e-9253-471a-92e2-83351609a217",
   "metadata": {},
   "outputs": [],
   "source": [
    "m = TestPitch_rate(I_ENG2Fr_mount=0, I_ENG2Rr_mount=-0.4, i_center_ENG=100);\n",
    "#sol = @simulate(m, tspan=(0.0, 100.0), scope=(omega));\n",
    "sol = @simulate(m, tspan=(0.0, 100.0), scope=(omega,beta));\n",
    "sol.graph\n",
    "\n",
    "\n",
    "#scopeが1変数の時できていない"
   ]
  },
  {
   "cell_type": "code",
   "execution_count": null,
   "id": "b2099ad9-dd40-487d-8683-bd901a63e814",
   "metadata": {},
   "outputs": [],
   "source": []
  },
  {
   "cell_type": "code",
   "execution_count": null,
   "id": "6a2e9528-ed15-4173-aa15-580d32de0151",
   "metadata": {},
   "outputs": [],
   "source": [
    "#出来ている"
   ]
  },
  {
   "cell_type": "code",
   "execution_count": null,
   "id": "562e701c-e8ea-4bcc-b782-5b35002c42dd",
   "metadata": {},
   "outputs": [],
   "source": [
    "#initialcondition = 6と勝手に指定,outのポートを増やした,掛け算割り算は直接演算\n",
    "@model v_z_carbody begin\n",
    "    @parameter g M_ENG\n",
    "    \n",
    "    @blk In1 = InBlock()\n",
    "    @blk In2 = InBlock()\n",
    "    @blk Constant1 = ConstantBlock(g)\n",
    "    @blk Constant = ConstantBlock(M_ENG)\n",
    "    @blk Add = AddBlock([:+, :+, :-]) inport[1]:in1 inport[2]:in2 inport[3]:abc\n",
    "    @blk Integrator1 = IntegratorBlock(initialcondition = 6)\n",
    "    @blk Out1 = OutBlock()\n",
    "    @blk Out2 = OutBlock()\n",
    "    \n",
    "    \n",
    "    @connect In1 => in1\n",
    "    @connect In2 => in2\n",
    "    @connect Constant1*Constant => abc\n",
    "    @connect Add / Constant => Integrator1\n",
    "    @connect Integrator1 => Out1\n",
    "    @connect Integrator1 => Out2\n",
    "end"
   ]
  },
  {
   "cell_type": "code",
   "execution_count": null,
   "id": "d751eeca-299f-4230-bc0f-8a23c1c04047",
   "metadata": {},
   "outputs": [],
   "source": [
    "@model TestV_z_carbody begin\n",
    "    \n",
    "    @parameter g M_ENG\n",
    "    \n",
    "    @blk Ramp1 = RampBlock(starttime = 10, slope = 5) outport:inin1\n",
    "    @blk Ramp2 = RampBlock(starttime = 10, slope = 15) outport:inin2\n",
    "    @blk carbody = v_z_carbody(g=g, M_ENG=M_ENG) inport[1]:r inport[2]:y outport[1]:omega outport[2]:beta  \n",
    "    @connect inin1 => r\n",
    "    @connect inin2 => y\n",
    "\n",
    "end"
   ]
  },
  {
   "cell_type": "code",
   "execution_count": null,
   "id": "6a690914-0370-4dff-9420-e48fd449ed6b",
   "metadata": {},
   "outputs": [],
   "source": [
    "m = TestV_z_carbody(g=9.8, M_ENG=50);\n",
    "#sol = @simulate(m, tspan=(0.0, 100.0), scope=(omega));\n",
    "sol = @simulate(m, tspan=(0.0, 100.0), scope=(omega,beta));\n",
    "sol.graph\n",
    "\n",
    "\n",
    "#scopeが1変数の時できていない"
   ]
  },
  {
   "cell_type": "code",
   "execution_count": null,
   "id": "3e3790b3-1b6d-4ba4-b5ef-c58f2d9aaec2",
   "metadata": {},
   "outputs": [],
   "source": []
  },
  {
   "cell_type": "code",
   "execution_count": null,
   "id": "65ebab78-b724-4c1b-ac9e-e9fafa3061c1",
   "metadata": {},
   "outputs": [],
   "source": [
    "#出来ている"
   ]
  },
  {
   "cell_type": "code",
   "execution_count": null,
   "id": "6b473a8d-7a73-4503-9903-7727f8b074c3",
   "metadata": {},
   "outputs": [],
   "source": [
    "#掛け算は直接演算\n",
    "@model z_velocity begin\n",
    "    @parameter I_ENG2Fr_ENG_mount I_ENG2Rr_ENG_mount\n",
    "    \n",
    "    @blk In1 = InBlock() \n",
    "    @blk In2 = InBlock()\n",
    "    @blk Constant10 = ConstantBlock(I_ENG2Fr_ENG_mount)\n",
    "    @blk Constant1 = ConstantBlock(I_ENG2Rr_ENG_mount)\n",
    "    @blk Add2 = AddBlock([:+, :+]) inport[1]:in1 inport[2]:pro8\n",
    "    @blk Add1 = AddBlock([:+, :+]) inport[1]:in2 inport[2]:pro1\n",
    "    @blk Out1 = OutBlock()\n",
    "    @blk Out2 = OutBlock()\n",
    "    \n",
    "    \n",
    "    @connect In1 => in1\n",
    "    @connect In2 => in2\n",
    "    @connect In2*Constant10 => pro8\n",
    "    @connect In2*Constant1 => pro1\n",
    "    @connect Add2 => Out1\n",
    "    @connect Add1 => Out2\n",
    "end"
   ]
  },
  {
   "cell_type": "code",
   "execution_count": null,
   "id": "5fe3f62a-c4d8-4cf7-af00-f9c5efb57d04",
   "metadata": {},
   "outputs": [],
   "source": [
    "@model TestZ_velocity begin\n",
    "    @parameter I_ENG2Fr_ENG_mount I_ENG2Rr_ENG_mount\n",
    "    @blk Ramp1 = RampBlock(starttime = 10, slope = 5) outport:inin1\n",
    "    @blk Ramp2 = RampBlock(starttime = 10, slope = 15) outport:inin2\n",
    "    @blk z_vel = z_velocity(I_ENG2Fr_ENG_mount=I_ENG2Fr_ENG_mount, I_ENG2Rr_ENG_mount=I_ENG2Rr_ENG_mount) inport[1]:r inport[2]:y outport[1]:omega outport[2]:beta\n",
    "    \n",
    "    @connect inin1 => r\n",
    "    @connect inin2 => y\n",
    "end"
   ]
  },
  {
   "cell_type": "code",
   "execution_count": null,
   "id": "c32c69c3-6651-46c1-a64a-87a94d257964",
   "metadata": {},
   "outputs": [],
   "source": [
    "###出来てる\n",
    "m = TestZ_velocity(I_ENG2Fr_ENG_mount=0, I_ENG2Rr_ENG_mount=-0.4);\n",
    "sol = @simulate(m, tspan=(0.0, 100.0), scope=(omega, beta));\n",
    "sol.graph"
   ]
  },
  {
   "cell_type": "code",
   "execution_count": null,
   "id": "6aa5c488-fb0d-4d42-9b81-4fac0db40e2f",
   "metadata": {},
   "outputs": [],
   "source": []
  },
  {
   "cell_type": "code",
   "execution_count": null,
   "id": "0b4e2198-89cf-4bdb-8fdc-b13651e46224",
   "metadata": {},
   "outputs": [],
   "source": []
  },
  {
   "cell_type": "code",
   "execution_count": null,
   "id": "47a659e7-cba4-4a84-96bf-77dbb70c1049",
   "metadata": {},
   "outputs": [],
   "source": []
  },
  {
   "cell_type": "code",
   "execution_count": null,
   "id": "de8252aa-94fe-4266-a9ae-26fe809b59bd",
   "metadata": {},
   "outputs": [],
   "source": []
  },
  {
   "cell_type": "code",
   "execution_count": null,
   "id": "ec51b848-968a-4c97-90ef-596c99729894",
   "metadata": {},
   "outputs": [],
   "source": []
  },
  {
   "cell_type": "code",
   "execution_count": null,
   "id": "46a69356-81bc-40bc-a9f8-a412aa89de79",
   "metadata": {},
   "outputs": [],
   "source": []
  },
  {
   "cell_type": "code",
   "execution_count": null,
   "id": "a5232d15-27fc-41d2-bbcf-05ad1a0ced73",
   "metadata": {},
   "outputs": [],
   "source": []
  },
  {
   "cell_type": "code",
   "execution_count": null,
   "id": "6db1d092-62c7-483d-8155-cbb1a694e848",
   "metadata": {},
   "outputs": [],
   "source": []
  },
  {
   "cell_type": "code",
   "execution_count": null,
   "id": "c638e94e-6c3e-4957-a4d6-13c2fdbb2039",
   "metadata": {},
   "outputs": [],
   "source": []
  },
  {
   "cell_type": "code",
   "execution_count": null,
   "id": "5f372377-8f9c-4b91-a22b-956c6f8d99de",
   "metadata": {},
   "outputs": [],
   "source": [
    "#以下出来ていない"
   ]
  },
  {
   "cell_type": "code",
   "execution_count": null,
   "id": "c66acd49-89de-4b58-89b4-af00ad1e7a5d",
   "metadata": {},
   "outputs": [],
   "source": [
    "###pitch_rate"
   ]
  },
  {
   "cell_type": "code",
   "execution_count": null,
   "id": "b5672c95-46d6-4cb3-bb53-c31e166a7218",
   "metadata": {},
   "outputs": [],
   "source": [
    "@model pitch_rate begin\n",
    "    @parameter\n",
    "    \n",
    "    @blk In1 = InBlock()\n",
    "    @blk In2 = InBlock()\n",
    "    @blk Constant1 = ConstantBlock() #l_ENG2Fr_ENG_mount\n",
    "    @blk Constant2 = ConstantBlock() #l_ENG2Rr_ENG_mount\n",
    "    @blk Product1 = MultiplyBlock() inport[1]:in1 inport[2]:cons1\n",
    "    @blk Product2 = MultiplyBlock() inport[1]:in2 inport[2]:cons2\n",
    "    @blk Add1 = AddBlock([:+, :+]) inport[1]:in3 inport[2]:in4\n",
    "    \n",
    "    @blk Constant3 = ConstantBlock() #l_ENG2Rr_ENG_mount\n",
    "    @blk Reciprocal = MathFunctionBlock([:reciprocal]) #逆数のブロックを作成することで除算を実現(2つのポートを乗算するブロックに繋げる)\n",
    "    @blk Product3 = MultiplyBlock() inport[1]:add1 inport[2]:reci\n",
    "    @blk Integrator = IntegratorBlock()\n",
    "    @blk Out = OutBlock()\n",
    "\n",
    "    @connect In1 => in1\n",
    "    @connect Constant1 => cons1\n",
    "    @connect In2 => in2\n",
    "    @connect Constant2 => cons2\n",
    "    @connect Product1 => in3\n",
    "    @connect Product2 => in4\n",
    "    @connect Add1 => add1\n",
    "    @connect Constant3 => Reciprocal\n",
    "    @connect Reciprocal => reci\n",
    "    @connect Product3 => Integrator\n",
    "    @connect Integrator => Out\n",
    "    "
   ]
  },
  {
   "cell_type": "code",
   "execution_count": null,
   "id": "f25359a9-976b-4ab3-bcab-282fcc0da19e",
   "metadata": {},
   "outputs": [],
   "source": []
  },
  {
   "cell_type": "code",
   "execution_count": null,
   "id": "dd3664a0-c07b-465e-afda-9ada2768642e",
   "metadata": {},
   "outputs": [],
   "source": [
    "###v_z_carbody"
   ]
  },
  {
   "cell_type": "code",
   "execution_count": null,
   "id": "24975d5f-effb-494b-b90d-6a3d12bc849d",
   "metadata": {},
   "outputs": [],
   "source": [
    "@model v_z_carbody begin\n",
    "    @parameter\n",
    "    \n",
    "    @blk In1 = InBlock()\n",
    "    @blk In2 = InBlock()\n",
    "    \n",
    "    @blk Constant1 = ConstantBlock() #g\n",
    "    @blk Constant2 = ConstantBlock() #M_ENG\n",
    "    @blk Product1 = MultiplyBlock() inport[1]:cons1 inport[2]:cons2\n",
    "    \n",
    "    @blk Add = AddBlock([:+, :+, :-]) inport[1]:in1 inport[2]:in2 inport[3]:pro1\n",
    "    \n",
    "    @blk Product2 = MultiplyBlock() inport[1]:add inport[2]:cons2\n",
    "    @blk Reciprocal = MathFunctionBlock([:reciprocal]) #逆数のブロックを作成することで除算を実現(2つのポートを乗算するブロックに繋げる)\n",
    "    \n",
    "    @blk Integrator = IntegratorBlock() #1/s\n",
    "    \n",
    "    @blk Out = OutBlock() #v_ENG_mps\n",
    "    \n",
    "    \n",
    "    \n",
    "    @connect Constant1 => cons1\n",
    "    @connect Constant2 => cons2\n",
    "    @connect In1 => in1\n",
    "    @connect In2 => in2\n",
    "    @connect Product => pro1\n",
    "    @connect Constant2 => Reciprocal\n",
    "    @connect Add => add\n",
    "    @connect Product2 => Integrator\n",
    "    @connect Integrator => Out"
   ]
  },
  {
   "cell_type": "code",
   "execution_count": null,
   "id": "7c511dfe-6582-43fa-bb86-8d982912aa1b",
   "metadata": {},
   "outputs": [],
   "source": []
  },
  {
   "cell_type": "code",
   "execution_count": null,
   "id": "7c7e0185-a139-4d20-8095-86e995a47dc8",
   "metadata": {},
   "outputs": [],
   "source": [
    "###z_velocity\n",
    "#掛け算ブロックは自分で作成した。\n",
    "#src/Sim.jlにmake/MultiplyBlock.jlを追加する"
   ]
  },
  {
   "cell_type": "code",
   "execution_count": null,
   "id": "6da28578-6c18-4ced-a5a2-5bea88c03021",
   "metadata": {},
   "outputs": [],
   "source": [
    "@model z_velocity begin\n",
    "    @parameter l_ENG2Fr_ENG_mount\n",
    "    @parameter l_ENG2Rr_ENG_mount\n",
    "    \n",
    "    @blk In1 = InBlock() #v_z_ENG\n",
    "    @blk In2 = InBlock() #ENG_pitch_rate\n",
    "    \n",
    "    @blk Constant10 = ConstantBlock(l_ENG2Fr_ENG_mount)\n",
    "    @blk Product8 = MultiplyBlock() inport[1]:in2 inport[2]:cons10\n",
    "    \n",
    "    @blk Constant1 = ConstantBlock(l_ENG2Rr_ENG_mount) #C\n",
    "    @blk Product1 = MultiplyBlock() inport[1]:in2 inport[2]:cons1\n",
    "    \n",
    "    @blk Add2 = AddBlock([:+, :+]) inport[1]:in1 inport[2]:pro8\n",
    "    @blk Add1 = AddBlock([:+, :+]) inport[1]:in1 inport[2]:pro1\n",
    "    \n",
    "    @blk Out1 = OutBlock()\n",
    "    @blk Out2 = OutBlock()\n",
    "    \n",
    "    @connect In2 => in2\n",
    "    @connect Constant10 => cons10\n",
    "    @connect Constant1 => cons1\n",
    "    @connect In1 => in1\n",
    "    @connect Product8 => pro8\n",
    "    @connect Product1 => pro1"
   ]
  },
  {
   "cell_type": "code",
   "execution_count": null,
   "id": "e5af5129-7ca1-475c-9b8d-ac26772e8f7b",
   "metadata": {},
   "outputs": [],
   "source": [
    "@model TestZ_velocity begin\n",
    "    @parameter l_ENG2Fr_ENG_mount l_ENG2Rr_ENG_mount\n",
    "    \n",
    "    @blk z_velocity"
   ]
  },
  {
   "cell_type": "code",
   "execution_count": null,
   "id": "a61fe5a6-f9a1-472b-8126-0771fd1cfebf",
   "metadata": {},
   "outputs": [],
   "source": [
    "m = TestZ_velocity(l_ENG2Fr_ENG_mount=0, l_ENG2Rr_ENG_mount=-0.4)\n",
    "sol = @simulate(m, )"
   ]
  },
  {
   "cell_type": "code",
   "execution_count": null,
   "id": "501363ab-6cb2-4673-930c-5e33d95462a4",
   "metadata": {},
   "outputs": [],
   "source": []
  },
  {
   "cell_type": "code",
   "execution_count": null,
   "id": "d7b12504-a9df-4665-a352-34ec594b7b49",
   "metadata": {},
   "outputs": [],
   "source": [
    "###ENG_PNT"
   ]
  },
  {
   "cell_type": "code",
   "execution_count": null,
   "id": "d911f11a-2c30-419c-addd-262056180f61",
   "metadata": {},
   "outputs": [],
   "source": [
    "#ブロック群の繋がりを定義する"
   ]
  },
  {
   "cell_type": "code",
   "execution_count": null,
   "id": "3089b19b-b5ba-4288-b2d5-c6da791a731f",
   "metadata": {},
   "outputs": [],
   "source": [
    "@model Eng_pnt begin\n",
    "    @parameter\n",
    "    \n",
    "    @blk In1 = InBlock()\n",
    "    @blk In2 = InBlock()"
   ]
  }
 ],
 "metadata": {
  "kernelspec": {
   "display_name": "Julia 1.8.5",
   "language": "julia",
   "name": "julia-1.8"
  },
  "language_info": {
   "file_extension": ".jl",
   "mimetype": "application/julia",
   "name": "julia",
   "version": "1.8.5"
  }
 },
 "nbformat": 4,
 "nbformat_minor": 5
}
