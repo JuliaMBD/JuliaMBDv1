{
 "cells": [
  {
   "cell_type": "code",
   "execution_count": 1,
   "id": "f26a7729-4e93-4157-8add-483ccdd3256a",
   "metadata": {},
   "outputs": [
    {
     "name": "stderr",
     "output_type": "stream",
     "text": [
      "\u001b[32m\u001b[1m    Updating\u001b[22m\u001b[39m registry at `/opt/julia/registries/General.toml`\n",
      "\u001b[32m\u001b[1m   Resolving\u001b[22m\u001b[39m package versions...\n",
      "\u001b[32m\u001b[1m  No Changes\u001b[22m\u001b[39m to `/opt/julia/environments/v1.8/Project.toml`\n",
      "\u001b[32m\u001b[1m  No Changes\u001b[22m\u001b[39m to `/opt/julia/environments/v1.8/Manifest.toml`\n"
     ]
    }
   ],
   "source": [
    "import Pkg\n",
    "Pkg.add(\"DifferentialEquations\")"
   ]
  },
  {
   "cell_type": "code",
   "execution_count": 2,
   "id": "84290ece-8c19-44cc-b600-99cb4f3c871d",
   "metadata": {},
   "outputs": [
    {
     "name": "stderr",
     "output_type": "stream",
     "text": [
      "\u001b[32m\u001b[1m   Resolving\u001b[22m\u001b[39m package versions...\n",
      "\u001b[32m\u001b[1m  No Changes\u001b[22m\u001b[39m to `/opt/julia/environments/v1.8/Project.toml`\n",
      "\u001b[32m\u001b[1m  No Changes\u001b[22m\u001b[39m to `/opt/julia/environments/v1.8/Manifest.toml`\n"
     ]
    }
   ],
   "source": [
    "Pkg.add(\"Plots\")"
   ]
  },
  {
   "cell_type": "code",
   "execution_count": 3,
   "id": "a963cd92-3c73-49b1-a555-9b5fc88e7412",
   "metadata": {},
   "outputs": [
    {
     "name": "stderr",
     "output_type": "stream",
     "text": [
      "WARNING: method definition for ModBlock at /home/jovyan/oldJulia/JSSimJulia-master/src/predefined_blocks/ModBlock.jl:11 declares type variable Tv but does not use it.\n"
     ]
    },
    {
     "data": {
      "text/plain": [
       "Main.Sim"
      ]
     },
     "execution_count": 3,
     "metadata": {},
     "output_type": "execute_result"
    }
   ],
   "source": [
    "include(\"src/Sim.jl\")"
   ]
  },
  {
   "cell_type": "code",
   "execution_count": null,
   "id": "3e0e9086-5897-437e-820c-a12e3c77904e",
   "metadata": {},
   "outputs": [],
   "source": []
  },
  {
   "cell_type": "code",
   "execution_count": null,
   "id": "370a446d-b766-4c2f-8f60-618b49fa4710",
   "metadata": {},
   "outputs": [],
   "source": []
  },
  {
   "cell_type": "code",
   "execution_count": null,
   "id": "4c020b6e-8b3d-4670-a388-534778d08038",
   "metadata": {},
   "outputs": [],
   "source": [
    "using Pkg\n",
    "Pkg.add(url=\"https://github.com/JuliaMBD/JuliaMBDv1.git\")"
   ]
  },
  {
   "cell_type": "code",
   "execution_count": null,
   "id": "20de83a3-b964-47a6-943d-2e516c3167c0",
   "metadata": {},
   "outputs": [],
   "source": [
    "import Pkg\n",
    "Pkg.add(\"Plots\")\n",
    "Pkg.add(\"DifferentialEquations\")"
   ]
  },
  {
   "cell_type": "code",
   "execution_count": null,
   "id": "08dd6529-920e-4de2-a51c-193c52b722d8",
   "metadata": {},
   "outputs": [],
   "source": [
    "using JuliaMBDv1\n",
    "using DifferentialEquations\n",
    "using Plots"
   ]
  },
  {
   "cell_type": "code",
   "execution_count": null,
   "id": "4747d08b-afef-4321-9bc4-0ea34bf46a0f",
   "metadata": {},
   "outputs": [],
   "source": []
  },
  {
   "cell_type": "code",
   "execution_count": null,
   "id": "51f3331b-b290-44e7-81dc-cc0bc769c25b",
   "metadata": {},
   "outputs": [],
   "source": []
  },
  {
   "cell_type": "code",
   "execution_count": null,
   "id": "610d4057-ce77-4df1-a8b6-a26b366d26c8",
   "metadata": {},
   "outputs": [],
   "source": [
    "#hm_bd_f_pntとhm_hd_f_pntはgotoブロックのせいでできていない"
   ]
  },
  {
   "cell_type": "code",
   "execution_count": null,
   "id": "7d9b7655-88de-4712-af0b-d020786e6e55",
   "metadata": {},
   "outputs": [],
   "source": [
    "#initialcondition = 6と勝手に指定,掛け算割り算は直接演算,goto不明\n",
    "@model hm_bd_f_pnt begin\n",
    "    @parameter g M_Fr_body\n",
    "    \n",
    "    @blk In1 = InBlock()\n",
    "    @blk In2 = InBlock()\n",
    "    @blk In3 = InBlock()\n",
    "    @blk Constant1 = ConstantBlock(g)\n",
    "    @blk Constant = ConstantBlock(M_Fr_body)\n",
    "    @blk Add2 = AddBlock([:+, :+, :+, :-]) inport[1]:in1 inport[2]:in2 inport[3]:in3 inport[4]:abc\n",
    "    @blk Integrator = IntegratorBlock(initialcondition = 6)\n",
    "    @blk Out1 = OutBlock()\n",
    "    @blk Out2 = OutBlock()\n",
    "    @blk Out3 = OutBlock()\n",
    "    \n",
    "    @blk Goto1 = GotoBlock() #不明\n",
    "    @blk Goto = GotoBlock() #不明\n",
    "    \n",
    "    \n",
    "    @connect In1 => in1\n",
    "    @connect In2 => in2\n",
    "    @connect In3 => in3\n",
    "    @connect Constant1*Constant => abc\n",
    "    @connect Add2 / Constant => Goto1\n",
    "    @connect Add2 / Constant => Integrator1\n",
    "    @connect Integrator => Out1\n",
    "    @connect Integrator => Out2\n",
    "    @connect Integrator => Out3\n",
    "    @connect Integrator => Goto\n",
    "end"
   ]
  },
  {
   "cell_type": "code",
   "execution_count": null,
   "id": "bf7dd6a0-c8a9-40b3-bcbc-3e675005171c",
   "metadata": {},
   "outputs": [],
   "source": [
    "@model TestHm_bd_f_pnt begin\n",
    "    \n",
    "    @parameter g M_Fr_body\n",
    "    \n",
    "    @blk Ramp1 = RampBlock(starttime = 10, slope = 5) outport:inin1\n",
    "    @blk Ramp2 = RampBlock(starttime = 10, slope = 15) outport:inin2\n",
    "    @blk hm_b_f = hm_bd_f_pnt(g=g, M_Fr_body=M_Fr_body) inport[1]:r inport[2]:y outport[1]:omega outport[2]:beta  \n",
    "    @connect inin1 => r\n",
    "    @connect inin2 => y\n",
    "\n",
    "end"
   ]
  },
  {
   "cell_type": "code",
   "execution_count": null,
   "id": "8f14be38-395f-454d-af5d-37383ceac351",
   "metadata": {},
   "outputs": [],
   "source": [
    "m = TestHm_bd_f_pnt(g=9.8, M_Fr_body=44.01);\n",
    "#sol = @simulate(m, tspan=(0.0, 100.0), scope=(omega));\n",
    "sol = @simulate(m, tspan=(0.0, 100.0), scope=(omega,beta));\n",
    "sol.graph\n",
    "\n",
    "\n",
    "#scopeが1変数の時できていない"
   ]
  },
  {
   "cell_type": "code",
   "execution_count": null,
   "id": "1e29ebf5-5d6c-4257-a5e4-81ccef545077",
   "metadata": {},
   "outputs": [],
   "source": [
    "#出来ていない(ポートの接続定義にミス?)"
   ]
  },
  {
   "cell_type": "code",
   "execution_count": null,
   "id": "b588459f-e331-4c5d-a091-f9c4ba3f8906",
   "metadata": {},
   "outputs": [],
   "source": [
    "#initialcondition = 6と勝手に指定,掛け算割り算は直接演算,outblockを一つ増やした,@blk Constant2 = ConstantBlock(C)はIntegratorBlock()の入力ポートが一つになるように削除した\n",
    "@model hm_vs_f_pnt begin\n",
    "    #@parameter z_kz_Fr_body_organs_ini = 0.001526\n",
    "    @parameter kz_Fr_body_organs dz_Fr_body_organs M_Fr_body_organs g\n",
    "    \n",
    "    @blk In = InBlock()\n",
    "    @blk Add1 = AddBlock([:-, :+]) inport[1]:inte inport[2]:in1\n",
    "    #@blk Constant2 = ConstantBlock(C)\n",
    "    @blk Integrator1 = IntegratorBlock(initialcondition = 6)\n",
    "    @blk Gain2 = GainBlock(kz_Fr_body_organs)\n",
    "    @blk Gain3 = GainBlock(dz_Fr_body_organs)\n",
    "    @blk Add4 = AddBlock([:+, :+]) inport[1]:gain2 inport[2]:gain3\n",
    "    @blk Gain1 = GainBlock(-1)\n",
    "    @blk Constant = ConstantBlock(M_Fr_body_organs)\n",
    "    @blk Constant1 = ConstantBlco(g)\n",
    "    @blk Add = AddBlock([:+, :-]) inport[1]:add4 inport[2]:pro\n",
    "    @blk Integrator = IntegratorBlock(initialcondition = 6)\n",
    "    @blk Out1 = OutBlock\n",
    "    \n",
    "    @blk Out2 = OutBlock(M_Fr_body_organs)\n",
    "\n",
    "    \n",
    "    \n",
    "    @connect In => in1\n",
    "    @connect Integrator => inte\n",
    "    @connect Add1 => Integrator1\n",
    "    @connect Integrator1 => Gain2\n",
    "    @connect Add1 => Gain3\n",
    "    @connect Gain2 => gain2\n",
    "    @connect Gain3 => gain3\n",
    "    @connect Add4 => add4\n",
    "    @connect Constant1 * Constant => pro\n",
    "    @connect Add / Constant => Integrator\n",
    "    @connect Add4 => Gain1\n",
    "    \n",
    "    @connect Gain1 => Out1\n",
    "    @connect Gain2 => Out2\n",
    "    \n",
    "    \n",
    "end"
   ]
  },
  {
   "cell_type": "code",
   "execution_count": null,
   "id": "03ecb151-b4d1-4d75-8d77-60c9625bb474",
   "metadata": {},
   "outputs": [],
   "source": [
    "@model TestHm_vs_f_pnt begin\n",
    "    \n",
    "    @parameter kz_Fr_body_organs dz_Fr_body_organs g M_FR_body\n",
    "    \n",
    "    @blk Ramp1 = RampBlock(starttime = 10, slope = 5) outport:inin1\n",
    "    #@blk Ramp2 = RampBlock(starttime = 10, slope = 5) outport:inin2\n",
    "    #@blk hm_v = hm_vs_f_pnt(g=g, M_FR_body=M_FR_body) inport[1]:r inport[2]:y outport[1]:omega outport[2]:beta\n",
    "    @blk hm_v = hm_vs_f_pnt(kz_Fr_body_organs=kz_Fr_body_organs, dz_Fr_body_organs=dz_Fr_body_organs, M_Fr_body_organs=M_Fr_body_organs, g=g) inport:r outport[1]:omega outport[2]:beta\n",
    "    @connect inin1 => r\n",
    "\n",
    "end"
   ]
  },
  {
   "cell_type": "code",
   "execution_count": null,
   "id": "06323bf6-bfce-483a-9102-830c4a0b37d1",
   "metadata": {},
   "outputs": [],
   "source": [
    "m = TestHm_vs_f_pnt(kz_Fr_body_organs=82200 dz_Fr_body_organs=195 M_Fr_body_organs=12.8 g=9.8);\n",
    "#sol = @simulate(m, tspan=(0.0, 100.0), scope=(omega));\n",
    "sol = @simulate(m, tspan=(0.0, 100.0), scope=(omega,beta));\n",
    "sol.graph\n",
    "\n",
    "\n",
    "#scopeが1変数の時できていない"
   ]
  },
  {
   "cell_type": "code",
   "execution_count": null,
   "id": "f7c4af28-ca9c-4c10-a5a1-41beb9dc9e93",
   "metadata": {},
   "outputs": [],
   "source": []
  },
  {
   "cell_type": "code",
   "execution_count": null,
   "id": "a71600ef-b11e-416d-a425-2365cdeca6a8",
   "metadata": {},
   "outputs": [],
   "source": [
    "#集合ブロックHM_F_PNTはhm_bd_f_pntとhm_hd_f_pntブロックが作成困難のため出来ない"
   ]
  },
  {
   "cell_type": "code",
   "execution_count": null,
   "id": "1977fe8a-b211-46e2-8c31-da5b9a7c23d4",
   "metadata": {},
   "outputs": [],
   "source": []
  }
 ],
 "metadata": {
  "kernelspec": {
   "display_name": "Julia 1.8.5",
   "language": "julia",
   "name": "julia-1.8"
  },
  "language_info": {
   "file_extension": ".jl",
   "mimetype": "application/julia",
   "name": "julia",
   "version": "1.8.5"
  }
 },
 "nbformat": 4,
 "nbformat_minor": 5
}
