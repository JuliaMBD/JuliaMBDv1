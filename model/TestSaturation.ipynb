{
 "cells": [
  {
   "cell_type": "code",
   "execution_count": 23,
   "id": "70f57a99-d751-458b-8730-c583f18347c0",
   "metadata": {
    "tags": []
   },
   "outputs": [
    {
     "name": "stderr",
     "output_type": "stream",
     "text": [
      "WARNING: replacing module Sim.\n",
      "WARNING: method definition for ModBlock at /home/jovyan/oldJulia/JSSimJulia-master/src/predefined_blocks/ModBlock.jl:11 declares type variable Tv but does not use it.\n"
     ]
    },
    {
     "data": {
      "text/plain": [
       "Main.Sim"
      ]
     },
     "execution_count": 23,
     "metadata": {},
     "output_type": "execute_result"
    }
   ],
   "source": [
    "include(\"src/Sim.jl\")"
   ]
  },
  {
   "cell_type": "code",
   "execution_count": 17,
   "id": "e6473eb8-1e9e-4172-9dc0-c4a627c936de",
   "metadata": {
    "tags": []
   },
   "outputs": [
    {
     "name": "stderr",
     "output_type": "stream",
     "text": [
      "WARNING: using Sim.RampBlock in module Main conflicts with an existing identifier.\n",
      "WARNING: using Sim.signal in module Main conflicts with an existing identifier.\n",
      "WARNING: using Sim.SystemBlock in module Main conflicts with an existing identifier.\n",
      "WARNING: using Sim.assignvar! in module Main conflicts with an existing identifier.\n",
      "WARNING: using Sim.SaturationBlock in module Main conflicts with an existing identifier.\n",
      "WARNING: using Sim.OutBlock in module Main conflicts with an existing identifier.\n",
      "WARNING: using Sim.@model in module Main conflicts with an existing identifier.\n",
      "WARNING: using Sim.AddBlock in module Main conflicts with an existing identifier.\n",
      "WARNING: using Sim.SaturationDynamicBlock in module Main conflicts with an existing identifier.\n",
      "WARNING: using Sim.InBlock in module Main conflicts with an existing identifier.\n",
      "WARNING: using Sim.connect! in module Main conflicts with an existing identifier.\n",
      "WARNING: using Sim.blk! in module Main conflicts with an existing identifier.\n",
      "WARNING: using Sim.GainBlock in module Main conflicts with an existing identifier.\n"
     ]
    }
   ],
   "source": [
    "using DifferentialEquations\n",
    "using Plots\n",
    "using .Sim"
   ]
  },
  {
   "cell_type": "code",
   "execution_count": 45,
   "id": "a273870d-df7f-45fb-afe4-8b74ec931976",
   "metadata": {
    "tags": []
   },
   "outputs": [
    {
     "data": {
      "text/plain": [
       "Tr_f_pnt (generic function with 1 method)"
      ]
     },
     "execution_count": 45,
     "metadata": {},
     "output_type": "execute_result"
    }
   ],
   "source": [
    "#@blk ConstantブロックはIntegratorBlock()の入力ポートが一つになるように削除した\n",
    "@model Tr_f_pnt begin\n",
    "    @parameter exa\n",
    "    \n",
    "    @blk In1 = InBlock()\n",
    "    @blk In2 = InBlock()\n",
    "    @blk Add1 = AddBlock([:+, :-]) inport[1]:in1 inport[2]:in2\n",
    "    @blk Add1 = AddBlock([:+, :+]) inport[1]:in1 inport[2]:in2 \n",
    "    \n",
    "    @blk Gain = GainBlock(exa)\n",
    "    #@blk Saturation = tSaturationDynamicBlock() inport[1]:add1 inport[2]:gain inport[3]:add2\n",
    "    @blk Saturation = SaturationDynamicBlock() inport[1]:add1 inport[2]:gain inport[3]:add2\n",
    "    @blk Saturation = SaturationDynamicBlock(5,10,20)\n",
    "    \n",
    "    @blk Out1 = OutBlock()\n",
    "    @blk Out2 = OutBlock()\n",
    "    \n",
    "    \n",
    "    \n",
    "    \n",
    "    \n",
    "    @connect In1 => in1\n",
    "    @connect In2 => in2\n",
    "    @connect In1 => Gain\n",
    "    @connect Add1 => add1\n",
    "    @connect Add2 => add2\n",
    "    @connect Gain => gain\n",
    "    \n",
    "    \n",
    "    @connect Saturation => Out1\n",
    "    @connect In2 => Out2\n",
    "end"
   ]
  },
  {
   "cell_type": "code",
   "execution_count": 46,
   "id": "232eb929-7e6b-4384-834a-165712056a21",
   "metadata": {
    "tags": []
   },
   "outputs": [
    {
     "data": {
      "text/plain": [
       "TestTr_f_pnt (generic function with 1 method)"
      ]
     },
     "execution_count": 46,
     "metadata": {},
     "output_type": "execute_result"
    }
   ],
   "source": [
    "@model TestTr_f_pnt begin\n",
    "    @parameter exa\n",
    "    \n",
    "    @blk Ramp1 = RampBlock(starttime = 10, slope = 5) outport:inin1\n",
    "    @blk Ramp2 = RampBlock(starttime = 10, slope = 15) outport:inin2\n",
    "    @blk tr_f = Tr_f_pnt(exa=exa) inport[1]:r inport[2]:y outport[1]:omega outport[2]:beta\n",
    "    \n",
    "    @connect inin1 => r\n",
    "    @connect inin2 => y\n",
    "\n",
    "end"
   ]
  },
  {
   "cell_type": "code",
   "execution_count": 47,
   "id": "9c1c3833-ba86-416b-979d-3e49314051c9",
   "metadata": {
    "tags": []
   },
   "outputs": [
    {
     "ename": "LoadError",
     "evalue": "UndefVarError: SaturationDynamicBlock not defined",
     "output_type": "error",
     "traceback": [
      "UndefVarError: SaturationDynamicBlock not defined",
      "",
      "Stacktrace:",
      " [1] Tr_f_pnt(; exa::Int64)",
      "   @ Main ./In[45]:13",
      " [2] TestTr_f_pnt(; exa::Int64)",
      "   @ Main ./In[46]:6",
      " [3] top-level scope",
      "   @ In[47]:2"
     ]
    }
   ],
   "source": [
    "#初期値が未定義\n",
    "m = TestTr_f_pnt(exa=50);\n",
    "sol = @simulate(m, tspan=(0.0, 100.0), scope=(omega, beta));\n",
    "sol.graph"
   ]
  },
  {
   "cell_type": "code",
   "execution_count": null,
   "id": "2b87b6f2-d140-4fcc-834d-626333bd9cff",
   "metadata": {},
   "outputs": [],
   "source": []
  },
  {
   "cell_type": "code",
   "execution_count": null,
   "id": "5e46ea2b-1e0b-4da2-8884-8df84122a208",
   "metadata": {},
   "outputs": [],
   "source": []
  }
 ],
 "metadata": {
  "kernelspec": {
   "display_name": "Julia 1.8.5",
   "language": "julia",
   "name": "julia-1.8"
  },
  "language_info": {
   "file_extension": ".jl",
   "mimetype": "application/julia",
   "name": "julia",
   "version": "1.8.5"
  }
 },
 "nbformat": 4,
 "nbformat_minor": 5
}
