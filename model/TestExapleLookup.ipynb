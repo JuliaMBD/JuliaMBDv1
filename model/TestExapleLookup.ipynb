{
 "cells": [
  {
   "cell_type": "code",
   "execution_count": 1,
   "id": "01ff445d-08dc-4c86-a2fe-972b318d7de2",
   "metadata": {
    "tags": []
   },
   "outputs": [
    {
     "name": "stderr",
     "output_type": "stream",
     "text": [
      "\u001b[32m\u001b[1m    Updating\u001b[22m\u001b[39m registry at `/opt/julia/registries/General.toml`\n",
      "\u001b[32m\u001b[1m   Resolving\u001b[22m\u001b[39m package versions...\n",
      "\u001b[32m\u001b[1m  No Changes\u001b[22m\u001b[39m to `/opt/julia/environments/v1.8/Project.toml`\n",
      "\u001b[32m\u001b[1m  No Changes\u001b[22m\u001b[39m to `/opt/julia/environments/v1.8/Manifest.toml`\n"
     ]
    }
   ],
   "source": [
    "import Pkg\n",
    "Pkg.add(\"DifferentialEquations\")"
   ]
  },
  {
   "cell_type": "code",
   "execution_count": 2,
   "id": "a0e5007f-f062-4098-bbb9-f08785d71b44",
   "metadata": {
    "tags": []
   },
   "outputs": [
    {
     "name": "stderr",
     "output_type": "stream",
     "text": [
      "\u001b[32m\u001b[1m   Resolving\u001b[22m\u001b[39m package versions...\n",
      "\u001b[32m\u001b[1m  No Changes\u001b[22m\u001b[39m to `/opt/julia/environments/v1.8/Project.toml`\n",
      "\u001b[32m\u001b[1m  No Changes\u001b[22m\u001b[39m to `/opt/julia/environments/v1.8/Manifest.toml`\n"
     ]
    }
   ],
   "source": [
    "Pkg.add(\"Plots\")"
   ]
  },
  {
   "cell_type": "code",
   "execution_count": 63,
   "id": "fb3e7a51-ad1e-4868-977a-2654dd203689",
   "metadata": {
    "tags": []
   },
   "outputs": [
    {
     "name": "stderr",
     "output_type": "stream",
     "text": [
      "WARNING: replacing module Sim.\n",
      "WARNING: method definition for ModBlock at /home/jovyan/oldJulia/JSSimJulia-master/src/predefined_blocks/ModBlock.jl:11 declares type variable Tv but does not use it.\n"
     ]
    },
    {
     "data": {
      "text/plain": [
       "Main.Sim"
      ]
     },
     "execution_count": 63,
     "metadata": {},
     "output_type": "execute_result"
    }
   ],
   "source": [
    "include(\"src/Sim.jl\")"
   ]
  },
  {
   "cell_type": "code",
   "execution_count": 59,
   "id": "9b41522c-c262-4223-a215-902759e7f73b",
   "metadata": {},
   "outputs": [
    {
     "name": "stderr",
     "output_type": "stream",
     "text": [
      "WARNING: using Sim.InBlock in module Main conflicts with an existing identifier.\n",
      "WARNING: using Sim.@simulate in module Main conflicts with an existing identifier.\n",
      "WARNING: using Sim.assignvar! in module Main conflicts with an existing identifier.\n",
      "WARNING: using Sim.OutBlock in module Main conflicts with an existing identifier.\n",
      "WARNING: using Sim.connect! in module Main conflicts with an existing identifier.\n",
      "WARNING: using Sim.@model in module Main conflicts with an existing identifier.\n",
      "WARNING: using Sim.ExapleLookupBlock in module Main conflicts with an existing identifier.\n",
      "WARNING: using Sim.scope in module Main conflicts with an existing identifier.\n",
      "WARNING: using Sim.AddBlock in module Main conflicts with an existing identifier.\n",
      "WARNING: using Sim.signal in module Main conflicts with an existing identifier.\n",
      "WARNING: using Sim.RampBlock in module Main conflicts with an existing identifier.\n",
      "WARNING: using Sim.SystemBlock in module Main conflicts with an existing identifier.\n",
      "WARNING: using Sim.blk! in module Main conflicts with an existing identifier.\n",
      "WARNING: using Sim.odeproblem in module Main conflicts with an existing identifier.\n"
     ]
    }
   ],
   "source": [
    "using DifferentialEquations\n",
    "using Plots\n",
    "using .Sim"
   ]
  },
  {
   "cell_type": "code",
   "execution_count": 70,
   "id": "b6cc9a32-3896-4dd2-a1db-12500fb01d5b",
   "metadata": {},
   "outputs": [
    {
     "data": {
      "text/plain": [
       "Tr_f_pnt (generic function with 1 method)"
      ]
     },
     "execution_count": 70,
     "metadata": {},
     "output_type": "execute_result"
    }
   ],
   "source": [
    "#@blk ConstantブロックはIntegratorBlock()の入力ポートが一つになるように削除した\n",
    "@model Tr_f_pnt begin\n",
    "    \n",
    "    #@parameter d_Fr_wheel #Gainブロック\n",
    "    @blk In1 = InBlock()\n",
    "    @blk In2 = InBlock()\n",
    "    @blk Add1 = AddBlock([:+, :+]) inport[1]:in1 inport[2]:in2 \n",
    "    @blk Look = ExapleLookupBlock()\n",
    "    #@blk Thre = ThresholdBlock()\n",
    "    \n",
    "    @blk Out1 = OutBlock()\n",
    "    @blk Out2 = OutBlock()\n",
    "    \n",
    "    \n",
    "    \n",
    "    @connect In1 => in1\n",
    "    @connect In2 => in2\n",
    "    @connect Add1 => Look\n",
    "   # @connect Add1 => Thre\n",
    "    \n",
    "    @connect Look => Out1\n",
    "    @connect Add1 => Out2\n",
    "end"
   ]
  },
  {
   "cell_type": "code",
   "execution_count": 71,
   "id": "c28f790d-9bcb-4077-96b2-ab94c7e4457f",
   "metadata": {},
   "outputs": [
    {
     "data": {
      "text/plain": [
       "TestTr_f_pnt (generic function with 1 method)"
      ]
     },
     "execution_count": 71,
     "metadata": {},
     "output_type": "execute_result"
    }
   ],
   "source": [
    "@model TestTr_f_pnt begin\n",
    "    #@parameter d_Fr_wheel k_Fr_wheel z_k_Fr_wheel_ini\n",
    "    ##@blk Ramp1 = RampBlock(starttime = 10, slope = 5) outport:in1\n",
    "    \n",
    "    \n",
    "    @blk Ramp1 = RampBlock(starttime = 10, slope = 5) outport:inin1\n",
    "    @blk Ramp2 = RampBlock(starttime = 10, slope = 15) outport:inin2\n",
    "    @blk tr_f = Tr_f_pnt() inport[1]:r inport[2]:y outport[1]:omega outport[2]:beta\n",
    "    \n",
    "    @connect inin1 => r\n",
    "    @connect inin2 => y\n",
    "\n",
    "end"
   ]
  },
  {
   "cell_type": "code",
   "execution_count": 72,
   "id": "fdeafd9e-44c2-418d-822a-16fc7de3281d",
   "metadata": {},
   "outputs": [
    {
     "ename": "LoadError",
     "evalue": "UndefVarError: input_value not defined",
     "output_type": "error",
     "traceback": [
      "UndefVarError: input_value not defined",
      "",
      "Stacktrace:",
      "  [1] _toexpr(blk::ExapleLookupBlock)",
      "    @ Main.Sim ~/oldJulia/JSSimJulia-master/src/predefined_blocks/ExapleLookupBlock.jl:48",
      "  [2] _toexpr(port::Main.Sim.OutPort)",
      "    @ Main.Sim ~/oldJulia/JSSimJulia-master/src/Port.jl:78",
      "  [3] _toexpr(line::Main.Sim.SignalLinePort{Float64})",
      "    @ Main.Sim ~/oldJulia/JSSimJulia-master/src/Line.jl:109",
      "  [4] _toexpr(port::Main.Sim.InPort)",
      "    @ Main.Sim ~/oldJulia/JSSimJulia-master/src/Port.jl:70",
      "  [5] _toexpr(blk::OutBlock)",
      "    @ Main.Sim ~/oldJulia/JSSimJulia-master/src/predefined_blocks/OutBlock.jl:29",
      "  [6] _toexpr(port::Main.Sim.OutPort)",
      "    @ Main.Sim ~/oldJulia/JSSimJulia-master/src/Port.jl:78",
      "  [7] _toexpr(line::Main.Sim.SignalLinePort{Float64})",
      "    @ Main.Sim ~/oldJulia/JSSimJulia-master/src/Line.jl:109",
      "  [8] scope(system::SystemBlock, var::Symbol, solution::Main.Sim.NoSolution)",
      "    @ Main.Sim ~/oldJulia/JSSimJulia-master/src/SystemBlock.jl:166",
      "  [9] (::var\"#46#48\")(x::Symbol)",
      "    @ Main ./none:0",
      " [10] iterate",
      "    @ ./generator.jl:47 [inlined]",
      " [11] collect(itr::Base.Generator{Vector{Symbol}, var\"#46#48\"})",
      "    @ Base ./array.jl:787",
      " [12] top-level scope",
      "    @ ~/oldJulia/JSSimJulia-master/src/SimMacro.jl:183"
     ]
    }
   ],
   "source": [
    "#初期値が未定義\n",
    "m = TestTr_f_pnt();\n",
    "sol = @simulate(m, tspan=(0.0, 100.0), scope=(omega, beta));\n",
    "sol.graph"
   ]
  },
  {
   "cell_type": "code",
   "execution_count": null,
   "id": "5a938a56-36d9-45ab-9558-a52ee05e5148",
   "metadata": {},
   "outputs": [],
   "source": []
  },
  {
   "cell_type": "code",
   "execution_count": null,
   "id": "5463501b-2954-4180-a940-0b58832daa3d",
   "metadata": {},
   "outputs": [],
   "source": []
  },
  {
   "cell_type": "code",
   "execution_count": null,
   "id": "ebf16dc9-cb4a-404b-83ff-53163e71e803",
   "metadata": {},
   "outputs": [],
   "source": []
  },
  {
   "cell_type": "code",
   "execution_count": null,
   "id": "8d1f9d3a-fb71-49a5-89c9-35708e4ef011",
   "metadata": {},
   "outputs": [],
   "source": []
  },
  {
   "cell_type": "code",
   "execution_count": null,
   "id": "c8787fa3-10eb-4758-b94a-4e418d681de5",
   "metadata": {},
   "outputs": [],
   "source": []
  },
  {
   "cell_type": "code",
   "execution_count": null,
   "id": "11653af8-9e79-4f31-ab91-53caee948679",
   "metadata": {},
   "outputs": [],
   "source": []
  }
 ],
 "metadata": {
  "kernelspec": {
   "display_name": "Julia 1.8.5",
   "language": "julia",
   "name": "julia-1.8"
  },
  "language_info": {
   "file_extension": ".jl",
   "mimetype": "application/julia",
   "name": "julia",
   "version": "1.8.5"
  }
 },
 "nbformat": 4,
 "nbformat_minor": 5
}
